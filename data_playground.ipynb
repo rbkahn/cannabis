{
 "nbformat": 4,
 "nbformat_minor": 2,
 "metadata": {
  "language_info": {
   "name": "python",
   "codemirror_mode": {
    "name": "ipython",
    "version": 3
   }
  },
  "orig_nbformat": 2,
  "file_extension": ".py",
  "mimetype": "text/x-python",
  "name": "python",
  "npconvert_exporter": "python",
  "pygments_lexer": "ipython3",
  "version": 3
 },
 "cells": [
  {
   "cell_type": "code",
   "execution_count": 1,
   "metadata": {},
   "outputs": [
    {
     "name": "stderr",
     "output_type": "stream",
     "text": "UsageError: Line magic function `%` not found.\n"
    }
   ],
   "source": [
    "import pandas as pd\n",
    "import pprint\n",
    "import urllib\n",
    "import requests\n",
    "pp = pprint.PrettyPrinter(indent=4)\n",
    "from yanytapi import SearchAPI\n",
    "from collections import defaultdict\n",
    "import numpy as np\n",
    "import csv\n",
    "import matplotlib.pyplot as plt\n",
    "import os\n",
    "from PIL import Image\n",
    "from wordcloud import WordCloud, STOPWORDS, ImageColorGenerator\n",
    "from gensim.parsing.preprocessing import remove_stopwords\n",
    "from bs4 import BeautifulSoup\n",
    "api = SearchAPI(\"TjGk9kxFO9ScvfSF8AfeqkXjjujBnz6e\")\n",
    "% matplotlib inline"
   ]
  },
  {
   "cell_type": "code",
   "execution_count": 88,
   "metadata": {},
   "outputs": [],
   "source": [
    "def get_df(years=None):\n",
    "    if not years:\n",
    "        return pd.concat([pd.read_csv('articles/' + file) for file in os.listdir('articles') if 'articles' in file], ignore_index=True, sort=False)\n",
    "    else:\n",
    "        return pd.concat([pd.read_csv('articles/' + csv_name(year)) for year in years], ignore_index=True, sort=False)\n",
    "\n",
    "def get_sentence_list(years=None, only_weed=False):\n",
    "    df = get_df(years=years)\n",
    "    df['text'] = df['text'].map(process_strings)\n",
    "    df['text'] = df['text'].map(remove_stopwords)\n",
    "    if only_weed:\n",
    "        return [remove_waste(p.split()) for p in df['text'] if 'marijuana' in p or 'cannabis' in p]\n",
    "    else:\n",
    "        return [remove_waste(p.split()) for p in df['text']]\n",
    "\n",
    "def get_list(years=None, only_weed=False):\n",
    "    return [item for sublist in get_sentence_list(years, only_weed) for item in sublist]\n",
    "\n",
    "def get_sentence(years=None):\n",
    "    split_it = get_list(years)\n",
    "    return ' '.join(split_it)\n",
    "\n",
    "def process(text):\n",
    "    text = text.replace(\"\\n\", \"\")\n",
    "    text = ' '.join(text.split())\n",
    "    return text\n",
    "\n",
    "def process_strings(s):\n",
    "    s = s.lower()\n",
    "    s = s.replace(\"’\",\"'\")\n",
    "    s = s.replace(\"'s\",\"\")\n",
    "    bad_chars = \".;:''?!,\\[]”“()\\\"\"\n",
    "    for char in bad_chars:\n",
    "        s = s.replace(char, \"\")\n",
    "    if len(s) > 0 and s[0] == '$':\n",
    "        return '$'\n",
    "    return s\n",
    "    \n",
    "def csv_name(year):\n",
    "    return 'articles-' + str(year) + '.csv'\n",
    "\n",
    "def remove_waste(sentence):\n",
    "    wasted_words = ['—', '&', '-']\n",
    "    return [word for word in sentence if word not in wasted_words]\n",
    "\n",
    "def clean_data(df, verbose=True):\n",
    "    #df['date'] = pd.to_datetime(df['date'], utc=True).dt.date\n",
    "    df['date'] = df['date'].apply(lambda s : s[:10])\n",
    "    df.drop([col for col in df.columns if 'Unnamed' in col], axis=1, inplace=True)\n",
    "    if verbose:\n",
    "        print(\"Original shape: \", df.shape)\n",
    "    df.drop(df.loc[df['text'] == \"We’re sorry, we seem to have lost this page, but we don’t want to lose you.\"].index, inplace=True)\n",
    "    df.drop(df.loc[df['text'] == \"We’re sorry, we seem to have lost this page, but we don’t want to lose you. Report the broken link here.\"].index, inplace=True)\n",
    "    df.drop(df.loc[df['text'] == \"Go to Home Page »\"].index, inplace=True)\n",
    "    if verbose:\n",
    "        print(\"Dropped failed pages: \", df.shape)\n",
    "    df.drop(df.loc[(df['text'].str.startswith('Compiled by ')) & (df['p#'] == 1.0)].index, inplace=True)\n",
    "    df.drop(df.loc[(df['text'].str.startswith('By ')) & (df['p#'] == 1.0)].index, inplace=True)\n",
    "    if verbose:\n",
    "        print(\"Dropped byline paragraphs: \", df.shape)\n",
    "    df['text'] = df['text'].apply(lambda x : x.replace(\"\\n\", \"\"))\n",
    "    df['text'] = df['text'].apply(lambda x : ' '.join(x.split()))\n",
    "    df.drop_duplicates(subset=['date', 'title', 'text', 'p#'], inplace=True)\n",
    "    if verbose:\n",
    "        print(\"Dropped duplicates: \", df.shape)\n",
    "    return df\n",
    "\n",
    "def get_summary():\n",
    "    l = list()\n",
    "    for year in range(1985, 2020):\n",
    "        if csv_name(year) in os.listdir('articles'):\n",
    "            df = clean_data(get_df(years=((year,))), verbose=False)\n",
    "            l.append({'year': year, 'articles': len(df['id'].unique()), 'tokens' : len(' '.join(df['text']))})\n",
    "    return pd.DataFrame(l)"
   ]
  },
  {
   "cell_type": "code",
   "execution_count": 161,
   "metadata": {},
   "outputs": [
    {
     "name": "stdout",
     "output_type": "stream",
     "text": "{'original': None, 'person': [], 'organization': None}\nMedical Marijuana, Pro and Con2006-04-26\n0 Advertisement\n1 APRIL 26, 2006\n\n2 To the Editor:\n3 It is no surprise that the Food and Drug Administration dismissed the medical value of cannabis. Plants cannot be patented.\n4 An agency with such close ties to the pharmaceutical industry has no incentive to recognize the medical value of a plant that people could grow themselves free of charge.\n5 Kenneth Michael White  Ontario, Calif., April 21, 2006\n6 The writer is the author of \"The Beginning of Today: The Marihuana Tax Act of 1937.\"\n7 We are continually improving the quality of our text archives. Please send feedback, error reports,\n        and suggestions to archive_feedback@nytimes.com.\n8 A version of this letter appears in print on April 26, 2006, on Page A00018 of the National edition with the headline: Medical Marijuana, Pro and Con.  Today's Paper|Subscribe\n\n\n9 Go to Home Page »\n"
    }
   ],
   "source": [
    "articles = api.search('Medical Marijuana, Pro and Con', begin_date='20060426', end_date='20060426')\n",
    "for article in articles:\n",
    "    print(article.byline)\n",
    "    print(get_identifier(article))\n",
    "    session = requests\n",
    "    url = article.web_url\n",
    "    req = session.get(url)\n",
    "    soup = BeautifulSoup(req.content, 'html.parser')\n",
    "    paragraphs = soup.find_all('p')\n",
    "    count = 0\n",
    "    for p in paragraphs:\n",
    "        print(count, p.get_text())\n",
    "        count += 1\n",
    "    break"
   ]
  },
  {
   "cell_type": "code",
   "execution_count": 89,
   "metadata": {},
   "outputs": [],
   "source": [
    "def get_identifier(article):\n",
    "    return process(article.headline['main']) + str(pd.to_datetime(article.pub_date)).split(' ')[0]\n",
    "def get_identifier_set(df):\n",
    "    return set(df['title'] + df['date'])\n",
    "df = clean_data(get_df(), verbose=False)\n",
    "check_set = get_identifier_set(df)"
   ]
  },
  {
   "cell_type": "code",
   "execution_count": 61,
   "metadata": {},
   "outputs": [
    {
     "name": "stdout",
     "output_type": "stream",
     "text": "date                                                 id   p#  \\\n60270  2001-12-15  nyt://article/d42d0908-f405-58ce-9844-7bee522b...  1.0   \n\n                                                    text  \\\n60270  Research on the medical uses of marijuana is s...   \n\n                                                  title  \\\n60270  After Two-Decade Halt, Marijuana Research Is Set   \n\n                                                     url  \n60270  https://www.nytimes.com/2001/12/15/us/after-tw...  \n"
    }
   ],
   "source": [
    "articles = api.search(\"marijuana\", begin_date='20011101', end_date='20011231')\n",
    "\n",
    "for article in articles:\n",
    "    print(df.loc[(df['title'] == process(article.headline['main'])) & \\\n",
    "                                    (df['date'] ==  article.pub_date[:10]) & \\\n",
    "                                   (df['p#'] == 1.0)])\n",
    "    break\n",
    "    print(\"Actually, already read \", article.headline['main'])\n",
    "    print(article.headline['main'])\n",
    "    print(article.pub_date)\n",
    "    continue\n",
    "    session = requests\n",
    "    url = article.web_url\n",
    "    req = session.get(url)\n",
    "    soup = BeautifulSoup(req.content, 'html.parser')\n",
    "    paragraphs = soup.find_all('p')\n",
    "    break"
   ]
  },
  {
   "cell_type": "code",
   "execution_count": 62,
   "metadata": {},
   "outputs": [
    {
     "data": {
      "text/html": "<div>\n<style scoped>\n    .dataframe tbody tr th:only-of-type {\n        vertical-align: middle;\n    }\n\n    .dataframe tbody tr th {\n        vertical-align: top;\n    }\n\n    .dataframe thead th {\n        text-align: right;\n    }\n</style>\n<table border=\"1\" class=\"dataframe\">\n  <thead>\n    <tr style=\"text-align: right;\">\n      <th></th>\n      <th>date</th>\n      <th>id</th>\n      <th>p#</th>\n      <th>text</th>\n      <th>title</th>\n      <th>url</th>\n    </tr>\n  </thead>\n  <tbody>\n  </tbody>\n</table>\n</div>",
      "text/plain": "Empty DataFrame\nColumns: [date, id, p#, text, title, url]\nIndex: []"
     },
     "execution_count": 62,
     "metadata": {},
     "output_type": "execute_result"
    }
   ],
   "source": [
    "df.loc[(df['title'] == process('New Drug Czar, Old Problem')) & \\\n",
    "                                    ((df['date'] ==  '2001-05-12T05:00:00+0000'[:10]) & \\\n",
    "                                   (df['p#'] == 1.0))]"
   ]
  },
  {
   "cell_type": "code",
   "execution_count": 94,
   "metadata": {},
   "outputs": [
    {
     "data": {
      "text/html": "<div>\n<style scoped>\n    .dataframe tbody tr th:only-of-type {\n        vertical-align: middle;\n    }\n\n    .dataframe tbody tr th {\n        vertical-align: top;\n    }\n\n    .dataframe thead th {\n        text-align: right;\n    }\n</style>\n<table border=\"1\" class=\"dataframe\">\n  <thead>\n    <tr style=\"text-align: right;\">\n      <th></th>\n      <th>date</th>\n      <th>id</th>\n      <th>p#</th>\n      <th>text</th>\n      <th>title</th>\n      <th>url</th>\n    </tr>\n  </thead>\n  <tbody>\n    <tr>\n      <th>421858</th>\n      <td>2019-02-02</td>\n      <td>nyt://article/82d6002c-0edc-56a0-a209-27c56a31...</td>\n      <td>1.0</td>\n      <td>Last September, a group of academics and activ...</td>\n      <td>He Committed Murder. Then He Graduated From an...</td>\n      <td>https://www.nytimes.com/2019/02/02/business/br...</td>\n    </tr>\n  </tbody>\n</table>\n</div>",
      "text/plain": "              date                                                 id   p#  \\\n421858  2019-02-02  nyt://article/82d6002c-0edc-56a0-a209-27c56a31...  1.0   \n\n                                                     text  \\\n421858  Last September, a group of academics and activ...   \n\n                                                    title  \\\n421858  He Committed Murder. Then He Graduated From an...   \n\n                                                      url  \n421858  https://www.nytimes.com/2019/02/02/business/br...  "
     },
     "execution_count": 94,
     "metadata": {},
     "output_type": "execute_result"
    }
   ],
   "source": [
    "df.loc[(df['p#'] == 1.0) & (df['date'] ==  '2019-02-02T05:00:00+0000'[:10]) & (df['title'] == 'He Committed Murder. Then He Graduated From an Elite Law School. Would You Hire Him as Your Attorney?')]"
   ]
  },
  {
   "cell_type": "code",
   "execution_count": 92,
   "metadata": {},
   "outputs": [
    {
     "data": {
      "text/plain": "'He Committed Murder. Then He Graduated From an Elite Law School. Would You Hire Him as Your Attorney?'"
     },
     "execution_count": 92,
     "metadata": {},
     "output_type": "execute_result"
    }
   ],
   "source": [
    "df.loc[(df['p#'] == 1.0) & (df['date'] ==  '2019-02-02T05:00:00+0000'[:10])]['title'][421858]"
   ]
  },
  {
   "cell_type": "code",
   "execution_count": 87,
   "metadata": {},
   "outputs": [
    {
     "data": {
      "text/plain": "0         1985-12-26\n1         1985-12-26\n2         1985-12-26\n3         1985-12-26\n4         1985-12-26\n5         1985-12-26\n6         1985-12-26\n7         1985-12-26\n8         1985-12-26\n9         1985-12-26\n10        1985-12-26\n11        1985-12-26\n12        1985-12-26\n13        1985-12-26\n14        1985-12-26\n15        1985-12-26\n16        1985-12-26\n17        1985-12-26\n18        1985-12-26\n19        1985-12-24\n20        1985-12-24\n21        1985-12-24\n22        1985-12-24\n23        1985-12-24\n24        1985-12-24\n25        1985-12-24\n26        1985-12-24\n27        1985-12-22\n28        1985-12-22\n29        1985-12-22\n             ...    \n421901    2019-02-02\n421902    2019-02-02\n421903    2019-02-02\n421904    2019-02-02\n421905    2019-02-02\n421906    2019-02-02\n421907    2019-02-02\n421908    2019-02-02\n421909    2019-02-02\n421910    2019-02-02\n421911    2019-02-02\n421912    2019-02-02\n421913    2019-02-02\n421914    2019-02-02\n421915    2019-02-02\n421916    2019-02-02\n421917    2019-02-02\n421918    2019-02-02\n421919    2019-02-02\n421920    2019-02-02\n421921    2019-02-02\n421922    2019-02-02\n421923    2019-02-02\n421924    2019-02-02\n421925    2019-02-02\n421926    2019-02-02\n421927    2019-02-02\n421928    2019-02-02\n421929    2019-01-19\n421930    2019-01-19\nName: date, Length: 390865, dtype: object"
     },
     "execution_count": 87,
     "metadata": {},
     "output_type": "execute_result"
    }
   ],
   "source": [
    "df['date'].apply(lambda x : x[:10])"
   ]
  },
  {
   "cell_type": "code",
   "execution_count": null,
   "metadata": {},
   "outputs": [],
   "source": []
  }
 ]
}